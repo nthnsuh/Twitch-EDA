{
  "nbformat": 4,
  "nbformat_minor": 0,
  "metadata": {
    "colab": {
      "name": "EDA_Suh_Nathan.ipynb",
      "provenance": [],
      "collapsed_sections": []
    },
    "kernelspec": {
      "name": "python3",
      "display_name": "Python 3"
    }
  },
  "cells": [
    {
      "cell_type": "markdown",
      "metadata": {
        "id": "QEeY8reP-8Q_"
      },
      "source": [
        "In this assignment you can identify a dataset of your interest and perform exploratory data analysis to better understand the data, investigate initial questions about it and develop preliminary insights and hypotheses. Your final submission will be a blog post consisting of a series of captioned visualizations that convey the key insights gained over the course of your analysis. You need to post the blog to medium or your github website.\n",
        "\n",
        "Documenting the data analysis process you went through is the main pedagogical goal of the assignment and more important than the design of the final visualization.\n",
        "\n",
        "We will go over the details of the project during class hours next week."
      ]
    },
    {
      "cell_type": "markdown",
      "metadata": {
        "id": "40FjLaUS_Rui"
      },
      "source": [
        "##**Part 1: Select and Prepare the Data**"
      ]
    },
    {
      "cell_type": "markdown",
      "metadata": {
        "id": "Mu120a3d_SnY"
      },
      "source": [
        "You should start by picking a topic area of interest to you and finding a dataset that can provide insights into that topic. We have provided some datasets below that you can start from. But we encourage you to investigate a different topic and dataset. If you self-select a dataset and are concerned about its appropriateness for the assignment, you can check with the TAs regarding the same.\n",
        "\n",
        "**Note:** The data collection and preparation (also known as data wrangling) can be a very tedious and time-consuming process. Be sure you have sufficient time to conduct exploratory analysis, after preparing the data.\n",
        "\n",
        "After selecting a topic and dataset – but prior to analysis – you should write down an initial set of at least three questions you’d like to investigate."
      ]
    },
    {
      "cell_type": "markdown",
      "metadata": {
        "id": "_97-jxLqB9NI"
      },
      "source": [
        "## **Part 2: Exploratory Analysis**"
      ]
    },
    {
      "cell_type": "markdown",
      "metadata": {
        "id": "rCbLzkhhCB14"
      },
      "source": [
        "Once you have picked the dataset and performed the initial data wrangling, you will perform exploratory analysis to investigate your data. For this assignment we would like you to use Pandas, NumPy and matplotlib to help you with the analysis. \n",
        "\n",
        "**Phase 1:** You should start the exploration by first examining the shape and structure of your data. What dimensions/variables does it contain and how are the data values distributed? Are there any notable data quality issues? Find out if there are missing values in the data and think of how you can handle them. Are there any surprising relationships between the dimensions/variables? Make sure to perform sanity checks for patterns you expect to see! Note that it may be the case that after doing a bit of exploration in phase 1 you find that your data is not as interesting as you first thought. In such cases you might consider returning to Part 1 and identifying a different dataset to work with. Such iteration on choosing the dataset is common, but also time-consuming, so make sure you leave time in your schedule for this.\n",
        "\n",
        "**Phase 2:** Next, you should investigate your initial questions, as well as any new questions that arise during your exploration. For each question, create a visualization that might provide a useful answer. Then refine the visualization (by adding additional variables, changing the sort ordering or axis scales, filtering or subsetting data, etc.) to develop better perspectives explore unexpected observations, or sanity check your assumptions. You should repeat this process for each of your questions, and also feel free to revise your questions or branch off to explore new questions as the data warrants."
      ]
    },
    {
      "cell_type": "markdown",
      "metadata": {
        "id": "IUjuPZ9_CUkW"
      },
      "source": [
        "## **Final Deliverable**"
      ]
    },
    {
      "cell_type": "markdown",
      "metadata": {
        "id": "AroFpzSaCXDa"
      },
      "source": [
        "Your final submission should take the form of a blog post that consists of 10 or more captioned visualizations detailing your most important insights. You will also work on posting the blog to medium or your github website. Your “insights” can include important surprises or issues (such as data quality problems affecting your analysis) as well as responses to your analysis questions.\n",
        "\n",
        "Each visualization image should be a screenshot accompanied with a title and descriptive caption (1-4 sentences long) describing the insight(s) learned from that view. Provide sufficient detail for each caption such that anyone could read through your report and understand what you’ve learned. You are free, but not required, to annotate your images to draw attention to specific features of the data. \n",
        "\n",
        "Do not submit a blog cluttered with everything little thing you tried. Submit a clean report that highlights the most important “milestones” in your exploration, which can include initial overviews, identification of data quality problems, confirmations of key assumptions, and potential “discoveries”. Your blog should only present the final dataset you analyzed and should not describe any iterations on earlier datasets you might have initially explored."
      ]
    },
    {
      "cell_type": "markdown",
      "metadata": {
        "id": "XlvqVKO3CZxv"
      },
      "source": [
        "## **Data Sources**"
      ]
    },
    {
      "cell_type": "markdown",
      "metadata": {
        "id": "3tHXuSJ3CaiO"
      },
      "source": [
        "There are a variety of data sources available online. Here are some possible sources to consider. If you have any questions about whether your dataset is appropriate, please talk to the TAs.\n",
        "\n",
        "**Data is Plural** - Variety of datasets and sources covering many topics.\n",
        "\n",
        "https://data.gov - U.S. Government open datasets.\n",
        "\n",
        "U.S. Census Bureau - Census data - https://data.census.gov/\n",
        "\n",
        "Federal Elections Commission - Campaign finance and expenditures. - https://www.fec.gov/data/\n",
        "\n",
        "Federal Aviation Administration - FAA data - https://www.faa.gov/data_research/\n",
        "\n",
        "https://www.kaggle.com/\n",
        "\n",
        "https://archive.ics.uci.edu/ml/index.php\n",
        "\n",
        "https://github.com/awesomedata/awesome-public-datasets - Awesome Public Datasets - Variety of public datasets.\n",
        "\n",
        "Stanford Cable TV News Analyzer - We have recently released a tool that can be used to analyze who and what appears in the last decade of Cable TV News (i.e. CNN, Fox News, MSNBC). The site lets you download data as well which you could use to conduct further analysis. - https://tvnews.stanford.edu/data"
      ]
    },
    {
      "cell_type": "markdown",
      "metadata": {
        "id": "r1dkn1c9CtjY"
      },
      "source": [
        "### **Visualization Tool (matplotlib, seaborn, etc)**"
      ]
    },
    {
      "cell_type": "markdown",
      "metadata": {
        "id": "HDf8VHW7Cv2l"
      },
      "source": [
        "One goal of this assignment is for you to learn to use and evaluate the effectiveness of these packages. In addition to these packages, you are free to also use other visualization tools as you see fit, for example, you could also take a look at Tableau."
      ]
    },
    {
      "cell_type": "markdown",
      "metadata": {
        "id": "VlUMHuXCCzRa"
      },
      "source": [
        "### **Data Wrangling Tools**"
      ]
    },
    {
      "cell_type": "markdown",
      "metadata": {
        "id": "uPjA2VABC1fA"
      },
      "source": [
        "The data you choose may require reformatting, transformation or cleaning prior to visualization. You can use Pandas for data preparation. "
      ]
    },
    {
      "cell_type": "code",
      "metadata": {
        "id": "dbvZksb-Z-z9"
      },
      "source": [
        "import pandas as pd\n",
        "import numpy as np\n",
        "import seaborn as sn\n",
        "import matplotlib.pyplot as plt\n",
        "from scipy import stats\n",
        "\n",
        "twitcher = pd.read_csv(\"twitchdata-update.csv\")\n",
        "twitcher['Watch time(Minutes)'].div(60)\n",
        "twitcher = twitcher.rename(columns= {'Watch time(Hours)': 'Watch time(Minutes)'})"
      ],
      "execution_count": null,
      "outputs": []
    },
    {
      "cell_type": "markdown",
      "metadata": {
        "id": "lGtWp-IHCHG1"
      },
      "source": [
        "Removing outliers"
      ]
    },
    {
      "cell_type": "code",
      "metadata": {
        "id": "peVtozyM938h"
      },
      "source": [
        "twitch = twitcher[(np.abs(stats.zscore(twitcher[twitcher.columns[1:8]])) < 3).all(axis=1)]"
      ],
      "execution_count": null,
      "outputs": []
    },
    {
      "cell_type": "code",
      "metadata": {
        "colab": {
          "base_uri": "https://localhost:8080/"
        },
        "id": "gai1KW_yalxY",
        "outputId": "e4962b0c-e11c-4189-957a-3e66322ef926"
      },
      "source": [
        "twitch.shape"
      ],
      "execution_count": null,
      "outputs": [
        {
          "output_type": "execute_result",
          "data": {
            "text/plain": [
              "(911, 11)"
            ]
          },
          "metadata": {
            "tags": []
          },
          "execution_count": 59
        }
      ]
    },
    {
      "cell_type": "markdown",
      "metadata": {
        "id": "yYsJP5GNCKPx"
      },
      "source": [
        "Analyzing Data"
      ]
    },
    {
      "cell_type": "code",
      "metadata": {
        "colab": {
          "base_uri": "https://localhost:8080/"
        },
        "id": "mj1ocxmJaur-",
        "outputId": "c1dc58b3-dda3-45fe-a461-2cc433ab718d"
      },
      "source": [
        "twitch.info()"
      ],
      "execution_count": null,
      "outputs": [
        {
          "output_type": "stream",
          "text": [
            "<class 'pandas.core.frame.DataFrame'>\n",
            "Int64Index: 911 entries, 19 to 999\n",
            "Data columns (total 11 columns):\n",
            " #   Column                Non-Null Count  Dtype  \n",
            "---  ------                --------------  -----  \n",
            " 0   Channel               911 non-null    object \n",
            " 1   Watch time(Minutes)   911 non-null    float64\n",
            " 2   Stream time(minutes)  911 non-null    int64  \n",
            " 3   Peak viewers          911 non-null    int64  \n",
            " 4   Average viewers       911 non-null    int64  \n",
            " 5   Followers             911 non-null    int64  \n",
            " 6   Followers gained      911 non-null    int64  \n",
            " 7   Views gained          911 non-null    int64  \n",
            " 8   Partnered             911 non-null    bool   \n",
            " 9   Mature                911 non-null    bool   \n",
            " 10  Language              911 non-null    object \n",
            "dtypes: bool(2), float64(1), int64(6), object(2)\n",
            "memory usage: 73.0+ KB\n"
          ],
          "name": "stdout"
        }
      ]
    },
    {
      "cell_type": "code",
      "metadata": {
        "colab": {
          "base_uri": "https://localhost:8080/",
          "height": 266
        },
        "id": "NMdSnP9z9eao",
        "outputId": "3a833438-c8f1-4383-fb6c-45402a70c993"
      },
      "source": [
        "twitch.describe().T"
      ],
      "execution_count": null,
      "outputs": [
        {
          "output_type": "execute_result",
          "data": {
            "text/html": [
              "<div>\n",
              "<style scoped>\n",
              "    .dataframe tbody tr th:only-of-type {\n",
              "        vertical-align: middle;\n",
              "    }\n",
              "\n",
              "    .dataframe tbody tr th {\n",
              "        vertical-align: top;\n",
              "    }\n",
              "\n",
              "    .dataframe thead th {\n",
              "        text-align: right;\n",
              "    }\n",
              "</style>\n",
              "<table border=\"1\" class=\"dataframe\">\n",
              "  <thead>\n",
              "    <tr style=\"text-align: right;\">\n",
              "      <th></th>\n",
              "      <th>count</th>\n",
              "      <th>mean</th>\n",
              "      <th>std</th>\n",
              "      <th>min</th>\n",
              "      <th>25%</th>\n",
              "      <th>50%</th>\n",
              "      <th>75%</th>\n",
              "      <th>max</th>\n",
              "    </tr>\n",
              "  </thead>\n",
              "  <tbody>\n",
              "    <tr>\n",
              "      <th>Watch time(Minutes)</th>\n",
              "      <td>911.0</td>\n",
              "      <td>5.485145e+06</td>\n",
              "      <td>4.612768e+06</td>\n",
              "      <td>2036547.5</td>\n",
              "      <td>2686622.0</td>\n",
              "      <td>3706284.0</td>\n",
              "      <td>6.374986e+06</td>\n",
              "      <td>33820209.5</td>\n",
              "    </tr>\n",
              "    <tr>\n",
              "      <th>Stream time(minutes)</th>\n",
              "      <td>911.0</td>\n",
              "      <td>1.105111e+05</td>\n",
              "      <td>5.512516e+04</td>\n",
              "      <td>3645.0</td>\n",
              "      <td>76005.0</td>\n",
              "      <td>107745.0</td>\n",
              "      <td>1.399500e+05</td>\n",
              "      <td>373800.0</td>\n",
              "    </tr>\n",
              "    <tr>\n",
              "      <th>Peak viewers</th>\n",
              "      <td>911.0</td>\n",
              "      <td>2.711775e+04</td>\n",
              "      <td>3.010650e+04</td>\n",
              "      <td>2008.0</td>\n",
              "      <td>8846.5</td>\n",
              "      <td>15901.0</td>\n",
              "      <td>3.182250e+04</td>\n",
              "      <td>212201.0</td>\n",
              "    </tr>\n",
              "    <tr>\n",
              "      <th>Average viewers</th>\n",
              "      <td>911.0</td>\n",
              "      <td>3.614122e+03</td>\n",
              "      <td>3.591694e+03</td>\n",
              "      <td>326.0</td>\n",
              "      <td>1464.0</td>\n",
              "      <td>2322.0</td>\n",
              "      <td>4.360000e+03</td>\n",
              "      <td>29414.0</td>\n",
              "    </tr>\n",
              "    <tr>\n",
              "      <th>Followers</th>\n",
              "      <td>911.0</td>\n",
              "      <td>4.491538e+05</td>\n",
              "      <td>4.274316e+05</td>\n",
              "      <td>7102.0</td>\n",
              "      <td>168930.5</td>\n",
              "      <td>306435.0</td>\n",
              "      <td>5.723970e+05</td>\n",
              "      <td>2716270.0</td>\n",
              "    </tr>\n",
              "    <tr>\n",
              "      <th>Followers gained</th>\n",
              "      <td>911.0</td>\n",
              "      <td>1.597681e+05</td>\n",
              "      <td>1.822879e+05</td>\n",
              "      <td>-15772.0</td>\n",
              "      <td>42722.0</td>\n",
              "      <td>92033.0</td>\n",
              "      <td>2.105540e+05</td>\n",
              "      <td>1185647.0</td>\n",
              "    </tr>\n",
              "    <tr>\n",
              "      <th>Views gained</th>\n",
              "      <td>911.0</td>\n",
              "      <td>8.868559e+06</td>\n",
              "      <td>8.930637e+06</td>\n",
              "      <td>175788.0</td>\n",
              "      <td>3768386.0</td>\n",
              "      <td>6034891.0</td>\n",
              "      <td>1.050301e+07</td>\n",
              "      <td>84500786.0</td>\n",
              "    </tr>\n",
              "  </tbody>\n",
              "</table>\n",
              "</div>"
            ],
            "text/plain": [
              "                      count          mean  ...           75%         max\n",
              "Watch time(Minutes)   911.0  5.485145e+06  ...  6.374986e+06  33820209.5\n",
              "Stream time(minutes)  911.0  1.105111e+05  ...  1.399500e+05    373800.0\n",
              "Peak viewers          911.0  2.711775e+04  ...  3.182250e+04    212201.0\n",
              "Average viewers       911.0  3.614122e+03  ...  4.360000e+03     29414.0\n",
              "Followers             911.0  4.491538e+05  ...  5.723970e+05   2716270.0\n",
              "Followers gained      911.0  1.597681e+05  ...  2.105540e+05   1185647.0\n",
              "Views gained          911.0  8.868559e+06  ...  1.050301e+07  84500786.0\n",
              "\n",
              "[7 rows x 8 columns]"
            ]
          },
          "metadata": {
            "tags": []
          },
          "execution_count": 31
        }
      ]
    },
    {
      "cell_type": "code",
      "metadata": {
        "colab": {
          "base_uri": "https://localhost:8080/",
          "height": 382
        },
        "id": "Nbl1htjxBPOm",
        "outputId": "daa26e8a-22ea-4d1e-a078-7aff0266663d"
      },
      "source": [
        "sn.heatmap(twitch.isnull(), cbar = False, yticklabels = False, cmap = 'viridis')"
      ],
      "execution_count": null,
      "outputs": [
        {
          "output_type": "execute_result",
          "data": {
            "text/plain": [
              "<matplotlib.axes._subplots.AxesSubplot at 0x7fe2532bca90>"
            ]
          },
          "metadata": {
            "tags": []
          },
          "execution_count": 32
        },
        {
          "output_type": "display_data",
          "data": {
            "image/png": "[encoded data removed]",
            "text/plain": [
              "<Figure size 432x288 with 1 Axes>"
            ]
          },
          "metadata": {
            "tags": [],
            "needs_background": "light"
          }
        }
      ]
    },
    {
      "cell_type": "markdown",
      "metadata": {
        "id": "oBLrmsn6YJrM"
      },
      "source": [
        "DATA VISUALIZATIONS"
      ]
    },
    {
      "cell_type": "code",
      "metadata": {
        "colab": {
          "base_uri": "https://localhost:8080/",
          "height": 281
        },
        "id": "DdsxGIBGYIyy",
        "outputId": "1c611cc7-98a3-4305-e2fa-c687a154823a"
      },
      "source": [
        "b = 0\n",
        "c = 0\n",
        "for a in twitch['Partnered']:\n",
        "  if a == True:\n",
        "    b += 1\n",
        "  else:\n",
        "    c += 1\n",
        "labels = 'Partnered', 'Not Partnered'\n",
        "count = [b, c]\n",
        "partnership = plt.pie(count, labels = labels, autopct='%1.1f%%')\n",
        "plt.title('Streamers partnered with Twtich')\n"
      ],
      "execution_count": null,
      "outputs": [
        {
          "output_type": "execute_result",
          "data": {
            "text/plain": [
              "Text(0.5, 1.0, 'Streamers partnered with Twtich')"
            ]
          },
          "metadata": {
            "tags": []
          },
          "execution_count": 60
        },
        {
          "output_type": "display_data",
          "data": {
            "image/png": "[encoded data removed]",
            "text/plain": [
              "<Figure size 432x288 with 1 Axes>"
            ]
          },
          "metadata": {
            "tags": []
          }
        }
      ]
    },
    {
      "cell_type": "code",
      "metadata": {
        "colab": {
          "base_uri": "https://localhost:8080/",
          "height": 295
        },
        "id": "1WaQiatffKyX",
        "outputId": "7e2cdc42-7964-4622-d9ce-475f62d4c9fb"
      },
      "source": [
        "plt.scatter(twitch['Stream time(minutes)'], twitch['Watch time(Minutes)'], marker='o', color='r')\n",
        "\n",
        "plt.xlabel('Stream Time (Minutes)')\n",
        "plt.ylabel('Watch Time (Hours)')\n",
        "plt.title('Stream Time vs. Watch Time')\n",
        "plt.ylim(1500000, 20000000)\n",
        "\n",
        "plt.show()"
      ],
      "execution_count": null,
      "outputs": [
        {
          "output_type": "display_data",
          "data": {
            "image/png": "[encoded data removed]",
            "text/plain": [
              "<Figure size 432x288 with 1 Axes>"
            ]
          },
          "metadata": {
            "tags": [],
            "needs_background": "light"
          }
        }
      ]
    },
    {
      "cell_type": "code",
      "metadata": {
        "colab": {
          "base_uri": "https://localhost:8080/"
        },
        "id": "h7p1WTlWynEP",
        "outputId": "b5bf0304-56cb-44db-c90e-1c11af9ab7ad"
      },
      "source": [
        "r = np.corrcoef(twitch['Followers'], twitch['Followers gained'])\n",
        "print(r)"
      ],
      "execution_count": null,
      "outputs": [
        {
          "output_type": "stream",
          "text": [
            "[[1.         0.61000077]\n",
            " [0.61000077 1.        ]]\n"
          ],
          "name": "stdout"
        }
      ]
    },
    {
      "cell_type": "markdown",
      "metadata": {
        "id": "Kd9P0thmCN0k"
      },
      "source": [
        "Other visualization done on tableau\n"
      ]
    },
    {
      "cell_type": "markdown",
      "metadata": {
        "id": "RG61l1mTC3ju"
      },
      "source": [
        "### **Grading**"
      ]
    },
    {
      "cell_type": "markdown",
      "metadata": {
        "id": "ESbDdwRzC5aM"
      },
      "source": [
        "Each submission will be graded based on both the analysis process and the included visualizations. Here are our grading criteria:\n",
        "\n",
        "**Appropriate Data Assessment (5):** Overview/understanding of the data is built from transformations and appropriate assessment of data quality. Poses clear questions.\n",
        "\n",
        "**Exploration Thoroughness (5):** Sufficient breadth of analysis, exploring questions in sufficient depth (with appropriate follow-up questions).\n",
        "\n",
        "**Documentation (Blog) (5):** Clear documentation of exploratory process, including clearly written, understandable captions that communicate primary insights.\n",
        "\n",
        "**Appropriate use of Numpy, Pandas, and Matplotlib (5)**  to ingest, clean, and present the data"
      ]
    },
    {
      "cell_type": "markdown",
      "metadata": {
        "id": "TJrX_ynfC7Pp"
      },
      "source": [
        "### **Submission Details**"
      ]
    },
    {
      "cell_type": "markdown",
      "metadata": {
        "id": "gM4CysyYC9dA"
      },
      "source": [
        "This is an individual assignment. You may not work in groups. The assignment is due on Friday (03/05/2021)\n",
        "\n",
        "To submit your assignment, download your notebook and zip all the necessary files(data files). Submit the zipped file to balckboard. Make sure the notebook and the zipped file is named in the format - EDA_LastName_FirstName. Be sure to include the link to access your blog in your notebook.\n",
        "\n",
        "Also include the link to your notebook in the submission. \n",
        "\n",
        "We will provide more details on the blog during the next week of class.\n",
        "\n",
        "**Note** - If the dataset is too large to be zipped and submitted on blackboard, only submit your notebook, add your dataset to your google drive and share a link to the file in your notebook."
      ]
    }
  ]
}